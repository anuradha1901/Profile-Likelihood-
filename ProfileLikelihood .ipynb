{
 "cells": [
  {
   "cell_type": "code",
   "execution_count": 1,
   "id": "2aa8c460",
   "metadata": {},
   "outputs": [],
   "source": [
    "import numpy as np\n",
    "from profile_likelihood import profile_likelihood\n",
    "from scipy.integrate import odeint\n",
    "import matplotlib.pyplot as plt\n",
    "%matplotlib inline"
   ]
  },
  {
   "cell_type": "code",
   "execution_count": 2,
   "id": "21bf13aa",
   "metadata": {},
   "outputs": [],
   "source": [
    "N = 1000\n",
    "I0 = 10\n",
    "R0 = 0\n",
    "S0 = 990\n",
    "beta = 0.001\n",
    "alpha = 0.03\n",
    "\n",
    "# S0 = N - I0 - E0 - R0\n",
    "init_cond = S0, I0, R0 # Initial conditions\n",
    "Fitted_Parameters = 0.001, 0.03 # Fitted parameters (beta, gamma and alpha)\n",
    "\n",
    "\n",
    "t = np.linspace(0, 50, 50)\n",
    "\n",
    "def SIR_model(y, t, beta, alpha):\n",
    "    S, I, R = y\n",
    "    dSdt = -beta*S*I\n",
    "    dIdt = beta*S*I - alpha*I\n",
    "    dRdt = alpha*I\n",
    "    return dSdt, dIdt, dRdt\n",
    "\n",
    "\n",
    "# The function err_in_dataSEIR takes in par which are the SEIR_model arguments and the optimized data\n",
    "# The function returns the error \n",
    "def err_in_dataSIR(par, odata, fp):\n",
    "    N = 1000              # total population\n",
    "    I0 = 10               # Infectious\n",
    "    R0 = 0                # Recovered\n",
    "    S0 = N - I0 - R0 # Susceptible\n",
    "    init_cond = [S0, I0, R0] # Array of intial conditions (number of susceptible, exposed, infected and recovered people)\n",
    "    \n",
    "    EndofTime = 50       # Yearly    \n",
    "    daily = np.linspace(1, EndofTime, EndofTime) #  Returns evenly spaced numbers over an interval 0 to 365\n",
    "    tspan = daily \n",
    "    \n",
    "    y = odeint(SIR_model, init_cond, daily, args = (fp,par[0]))\n",
    "    # Here we are solving the system of equations that we modelled earlier\n",
    "    # SEIR_model is the function that returns derivative values at requested y and t values as dydt\n",
    "    # init_cond are the initial conditions of the differential states\n",
    "    # t is the time points at which the solutions should be reported\n",
    "    # arguments are the input values that our model needs (extra arguments to pass to the function)\n",
    "    \n",
    "    Infected = y[:,1] # second column of the solution corresponding to infected\n",
    "    weight = 1/(0.1*(1 + y[:,1]))\n",
    "    error_in_data = np.sum((weight*(Infected - odata))**2) # finding the error\n",
    "    \n",
    "    return error_in_data"
   ]
  },
  {
   "cell_type": "code",
   "execution_count": 3,
   "id": "e348c8f5",
   "metadata": {},
   "outputs": [],
   "source": [
    "daily = np.linspace(0, 50, 50)  # Returns evenly spaced numbers over an interval 0 to 365\n",
    "tspan = daily\n",
    "\n",
    "y_est = odeint(SIR_model, init_cond, daily, args = Fitted_Parameters)\n",
    "Prevalencedata = y_est[:,1] + 0.1*(1+y_est[:,1])\n"
   ]
  },
  {
   "cell_type": "code",
   "execution_count": 16,
   "id": "b6b42d44",
   "metadata": {
    "scrolled": false
   },
   "outputs": [
    {
     "name": "stdout",
     "output_type": "stream",
     "text": [
      "[0.02737366]\n",
      "[0.02653226]\n",
      "[0.02558265]\n",
      "[0.02505238]\n",
      "[0.02472149]\n",
      "[0.02449456]\n",
      "[0.0243301]\n",
      "[0.02420477]\n",
      "[0.02410608]\n",
      "[0.02402663]\n"
     ]
    }
   ],
   "source": [
    "from scipy.optimize import minimize\n",
    "\n",
    "betavalues = np.linspace(0.0008, 0.005, num = 10)\n",
    "length_of_betavalues = len(betavalues)\n",
    "Estiparam = np.zeros((length_of_betavalues,2))\n",
    "\n",
    "function_values = np.zeros((length_of_betavalues))\n",
    "counter = 0\n",
    "j = 0.05\n",
    "for i in betavalues:\n",
    "    Initial_Guess = j\n",
    "    fixp = i\n",
    "    # Optimization\n",
    "    optimizer0 = minimize(err_in_dataSIR, Initial_Guess, args=(Prevalencedata, fixp) , method='Nelder-Mead', options = {'maxiter' : 10000, 'xatol': 0.000001})\n",
    "    EstimatedParameters = optimizer0.x\n",
    "    print(EstimatedParameters)\n",
    "    j = EstimatedParameters[0]\n",
    "    Estiparam[counter, :] = np.append([fixp], [EstimatedParameters])\n",
    "    fval = optimizer0.fun\n",
    "    function_values[counter] = fval\n",
    "    \n",
    "    counter = counter + 1\n",
    "    exitflag = optimizer0.success\n",
    "    message = optimizer0.message\n",
    "    if exitflag==0:\n",
    "        print(message)\n",
    "\n",
    "beta_val = np.zeros((length_of_betavalues))\n",
    "alpha_val = np.zeros((length_of_betavalues))\n",
    "counter = 0\n",
    "for i in Estiparam:\n",
    "    beta_val[counter] = i[0]\n",
    "    alpha_val[counter] = i[1]\n",
    "    counter = counter + 1\n"
   ]
  },
  {
   "cell_type": "code",
   "execution_count": 17,
   "id": "615ad960",
   "metadata": {},
   "outputs": [
    {
     "data": {
      "text/plain": [
       "array([[0.0008    , 0.02737366],\n",
       "       [0.00126667, 0.02653226],\n",
       "       [0.00173333, 0.02558265],\n",
       "       [0.0022    , 0.02505238],\n",
       "       [0.00266667, 0.02472149],\n",
       "       [0.00313333, 0.02449456],\n",
       "       [0.0036    , 0.0243301 ],\n",
       "       [0.00406667, 0.02420477],\n",
       "       [0.00453333, 0.02410608],\n",
       "       [0.005     , 0.02402663]])"
      ]
     },
     "execution_count": 17,
     "metadata": {},
     "output_type": "execute_result"
    }
   ],
   "source": [
    "Estiparam"
   ]
  },
  {
   "cell_type": "code",
   "execution_count": 18,
   "id": "c3e8ac74",
   "metadata": {
    "scrolled": false
   },
   "outputs": [
    {
     "data": {
      "text/plain": [
       "[<matplotlib.lines.Line2D at 0x27bc2ef8640>]"
      ]
     },
     "execution_count": 18,
     "metadata": {},
     "output_type": "execute_result"
    },
    {
     "data": {
      "image/png": "[encoded data removed]",
      "text/plain": [
       "<Figure size 432x288 with 1 Axes>"
      ]
     },
     "metadata": {
      "needs_background": "light"
     },
     "output_type": "display_data"
    }
   ],
   "source": [
    "plt.plot(betavalues, function_values)"
   ]
  },
  {
   "cell_type": "code",
   "execution_count": 19,
   "id": "3de3122b",
   "metadata": {},
   "outputs": [
    {
     "data": {
      "text/plain": [
       "array([422.95520907,  55.84959216, 178.28440025, 241.43627652,\n",
       "       274.423983  , 293.16377328, 304.408789  , 311.3799422 ,\n",
       "       315.79550056, 318.6412381 ])"
      ]
     },
     "execution_count": 19,
     "metadata": {},
     "output_type": "execute_result"
    }
   ],
   "source": [
    "function_values"
   ]
  },
  {
   "cell_type": "code",
   "execution_count": 20,
   "id": "174f8385",
   "metadata": {
    "scrolled": true
   },
   "outputs": [
    {
     "data": {
      "text/plain": [
       "<matplotlib.collections.PathCollection at 0x27bc2f4ba30>"
      ]
     },
     "execution_count": 20,
     "metadata": {},
     "output_type": "execute_result"
    },
    {
     "data": {
      "image/png": "[encoded data removed]",
      "text/plain": [
       "<Figure size 432x288 with 1 Axes>"
      ]
     },
     "metadata": {
      "needs_background": "light"
     },
     "output_type": "display_data"
    }
   ],
   "source": [
    "plt.scatter(beta_val, alpha_val)"
   ]
  },
  {
   "cell_type": "code",
   "execution_count": 21,
   "id": "e58d3281",
   "metadata": {},
   "outputs": [
    {
     "data": {
      "text/plain": [
       "[<matplotlib.lines.Line2D at 0x27bc2fc72e0>]"
      ]
     },
     "execution_count": 21,
     "metadata": {},
     "output_type": "execute_result"
    },
    {
     "data": {
      "image/png": "[encoded data removed]",
      "text/plain": [
       "<Figure size 432x288 with 1 Axes>"
      ]
     },
     "metadata": {
      "needs_background": "light"
     },
     "output_type": "display_data"
    }
   ],
   "source": [
    "plt.plot(betavalues, alpha_val)"
   ]
  }
 ],
 "metadata": {
  "kernelspec": {
   "display_name": "Python 3 (ipykernel)",
   "language": "python",
   "name": "python3"
  },
  "language_info": {
   "codemirror_mode": {
    "name": "ipython",
    "version": 3
   },
   "file_extension": ".py",
   "mimetype": "text/x-python",
   "name": "python",
   "nbconvert_exporter": "python",
   "pygments_lexer": "ipython3",
   "version": "3.9.7"
  }
 },
 "nbformat": 4,
 "nbformat_minor": 5
}
